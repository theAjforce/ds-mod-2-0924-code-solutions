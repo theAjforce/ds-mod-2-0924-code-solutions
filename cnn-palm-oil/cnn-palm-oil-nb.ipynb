{
 "cells": [
  {
   "cell_type": "code",
   "execution_count": 1,
   "metadata": {},
   "outputs": [
    {
     "name": "stderr",
     "output_type": "stream",
     "text": [
      "2024-12-16 01:56:30.535442: I tensorflow/core/platform/cpu_feature_guard.cc:210] This TensorFlow binary is optimized to use available CPU instructions in performance-critical operations.\n",
      "To enable the following instructions: AVX2 FMA, in other operations, rebuild TensorFlow with the appropriate compiler flags.\n"
     ]
    }
   ],
   "source": [
    "import pandas as pd\n",
    "from PIL import Image, ImageFilter\n",
    "from tensorflow.keras.preprocessing import image\n",
    "import matplotlib.pyplot as plt\n",
    "from sklearn.model_selection import train_test_split\n",
    "import os\n",
    "import numpy as np\n",
    "from tensorflow import keras\n",
    "from tensorflow.keras import layers\n",
    "import tensorflow as tf\n",
    "import seaborn as sns\n",
    "from tensorflow.keras.preprocessing.image import ImageDataGenerator"
   ]
  },
  {
   "cell_type": "code",
   "execution_count": 2,
   "metadata": {},
   "outputs": [],
   "source": [
    "train_labels = pd.read_csv(\"traininglabels.csv\")\n",
    "train_labels['image_id'] = train_labels['image_id'].str.replace('2017', '', regex=False)\n",
    "train_labels['image_id'] = train_labels['image_id'].str.replace('2018', '', regex=False)\n",
    "train_labels['has_oilpalm'] = train_labels['has_oilpalm'].astype(str)"
   ]
  },
  {
   "cell_type": "code",
   "execution_count": 3,
   "metadata": {},
   "outputs": [
    {
     "data": {
      "image/png": "[encoded data removed]",
      "text/plain": [
       "<Figure size 640x480 with 1 Axes>"
      ]
     },
     "metadata": {},
     "output_type": "display_data"
    }
   ],
   "source": [
    "histo = sns.countplot(x=\"has_oilpalm\", data=train_labels)"
   ]
  },
  {
   "cell_type": "code",
   "execution_count": 4,
   "metadata": {},
   "outputs": [
    {
     "data": {
      "text/plain": [
       "'Wanted to create a higher level of certainty by only including items in the positive class that had a score of 0.5 or higher,\\nand only including items in the negative class that had a score of 1.0'"
      ]
     },
     "execution_count": 4,
     "metadata": {},
     "output_type": "execute_result"
    }
   ],
   "source": [
    "positive_class_files = train_labels[(train_labels[\"has_oilpalm\"] == \"1\") & (train_labels[\"score\"] > 0.5)]\n",
    "negative_class_files = train_labels[(train_labels[\"has_oilpalm\"] == \"0\") & (train_labels[\"score\"] == 1.0000)]\n",
    "'''Wanted to create a higher level of certainty by only including items in the positive class that had a score of 0.5 or higher,\n",
    "and only including items in the negative class that had a score of 1.0'''"
   ]
  },
  {
   "cell_type": "code",
   "execution_count": 5,
   "metadata": {},
   "outputs": [
    {
     "name": "stdout",
     "output_type": "stream",
     "text": [
      "920\n",
      "11955\n"
     ]
    }
   ],
   "source": [
    "print(len(positive_class_files))\n",
    "print(len(negative_class_files))"
   ]
  },
  {
   "cell_type": "markdown",
   "metadata": {},
   "source": [
    "The data his heavily biased towards the negative class by a split of 93/7, so we need to reduce bias by either undersampling or oversampling. So I decided to oversample the positive class so as to not lose any potentially useful data. But first I want to create a test set from our training data."
   ]
  },
  {
   "cell_type": "code",
   "execution_count": 6,
   "metadata": {},
   "outputs": [],
   "source": [
    "test_split = pd.concat([positive_class_files, negative_class_files])"
   ]
  },
  {
   "cell_type": "markdown",
   "metadata": {},
   "source": [
    "I'm taking a random split of 20% of the total data to use as my final testing data set."
   ]
  },
  {
   "cell_type": "code",
   "execution_count": 7,
   "metadata": {},
   "outputs": [],
   "source": [
    "train, val = train_test_split(test_split, test_size=0.2,random_state=42)"
   ]
  },
  {
   "cell_type": "code",
   "execution_count": 48,
   "metadata": {},
   "outputs": [],
   "source": [
    "#final test set\n",
    "#positive_class_test = test[test['has_oilpalm'] == \"1\"]['image_id'].to_list()\n",
    "#negative_class_test = test[test['has_oilpalm'] == \"0\"]['image_id'].to_list()"
   ]
  },
  {
   "cell_type": "markdown",
   "metadata": {},
   "source": [
    "And here I am creating a validation set so I can train my loss function values in the training step of my CNN to find the best epoch in the event of early stoppage."
   ]
  },
  {
   "cell_type": "code",
   "execution_count": 31,
   "metadata": {},
   "outputs": [],
   "source": [
    "#train, val = train_test_split(train,test_size=0.2,random_state=42)"
   ]
  },
  {
   "cell_type": "code",
   "execution_count": 8,
   "metadata": {},
   "outputs": [],
   "source": [
    "#validation set\n",
    "positive_class_val = val[val['has_oilpalm'] == \"1\"]['image_id'].to_list()\n",
    "negative_class_val = val[val['has_oilpalm'] == \"0\"]['image_id'].to_list()"
   ]
  },
  {
   "cell_type": "code",
   "execution_count": 9,
   "metadata": {},
   "outputs": [],
   "source": [
    "#training set\n",
    "positive_class_files = train[train[\"has_oilpalm\"] == \"1\"]['image_id'].to_list()\n",
    "negative_class_files = train[train[\"has_oilpalm\"] == \"0\"]['image_id'].to_list()"
   ]
  },
  {
   "cell_type": "code",
   "execution_count": 10,
   "metadata": {},
   "outputs": [
    {
     "data": {
      "text/plain": [
       "(731, 9569)"
      ]
     },
     "execution_count": 10,
     "metadata": {},
     "output_type": "execute_result"
    }
   ],
   "source": [
    "pos_count = len(positive_class_files)\n",
    "neg_count = len(negative_class_files)\n",
    "pos_count, neg_count"
   ]
  },
  {
   "cell_type": "code",
   "execution_count": 115,
   "metadata": {},
   "outputs": [
    {
     "data": {
      "text/plain": [
       "(0.0017482517482517483, 0.00013041210224308815)"
      ]
     },
     "execution_count": 115,
     "metadata": {},
     "output_type": "execute_result"
    }
   ],
   "source": [
    "weight_pos = 1 / pos_count\n",
    "weight_neg = 1 / neg_count\n",
    "weight_pos, weight_neg"
   ]
  },
  {
   "cell_type": "markdown",
   "metadata": {},
   "source": [
    "This function is used to oversample to positive class by augmenting the images using various methods such as simple rotation as well as ImageFilters from the Pillow library. This resampling reduced bias to a 59.8/40.2 split, still in favor of the negative class."
   ]
  },
  {
   "cell_type": "code",
   "execution_count": 11,
   "metadata": {},
   "outputs": [],
   "source": [
    "def read_image(file_path,positive_class_files,negative_class_files):\n",
    "  positive_image_arrays = []\n",
    "  positive_image_names = []\n",
    "  negative_image_names = []\n",
    "  negative_image_arrays = []\n",
    "  os.listdir(file_path)\n",
    "  for jpg in os.listdir(file_path):\n",
    "    if jpg.endswith(\".jpg\"):\n",
    "      if jpg in positive_class_files:\n",
    "        #original name\n",
    "        positive_image_names.append(jpg)\n",
    "        jpg2 = jpg.split(\".\")\n",
    "        #rotated 45 name\n",
    "        rotated = jpg2[0] + \"_rotated_45\" + \".\" + jpg2[1]\n",
    "        positive_image_names.append(rotated)\n",
    "        #blurred name\n",
    "        blurred = jpg2[0] + \"_blurred\" + \".\" + jpg2[1]\n",
    "        positive_image_names.append(blurred)\n",
    "        #rotated blurred name\n",
    "        rotate_blur = jpg2[0] + \"rotated_blurred\" + \".\" + jpg2[1]\n",
    "        positive_image_names.append(rotate_blur)\n",
    "        #sharpened name\n",
    "        sharpen = jpg[0] + \"sharpened\" + \".\" + jpg2[1]\n",
    "        positive_image_names.append(sharpen)\n",
    "        #rotated sharpened name\n",
    "        rotate_sharpen = jpg[0] + \"rotated_sharp\" + \".\" + jpg2[1]\n",
    "        positive_image_names.append(rotate_sharpen)\n",
    "        #flipped 180 name\n",
    "        rotate_180 = jpg2[0] + \"_rotated_180\" + \".\" + jpg2[1]\n",
    "        positive_image_names.append(rotate_180)\n",
    "        #rotate 180 blur name\n",
    "        rotate_180_blur = jpg2[0] + \"_rotated_180_blur\" + \".\" + jpg2[1]\n",
    "        positive_image_names.append(rotate_180_blur)\n",
    "        #rotate 180 sharpen image array\n",
    "        rotate_180_sharp = rotate_180_blur = jpg2[0] + \"_rotated_180_sharp\" + \".\" + jpg2[1]\n",
    "        positive_image_names.append(rotate_180_sharp)\n",
    "        img_path = os.path.join(file_path,jpg)\n",
    "        img = image.load_img(img_path,target_size=(224,224))\n",
    "        #original image array\n",
    "        img_array = (image.img_to_array(img))/255\n",
    "        positive_image_arrays.append(img_array)\n",
    "        #rotated 45 degrees image array\n",
    "        img_rot = img.rotate(45,expand=False)\n",
    "        img_array1 = (image.img_to_array(img_rot))/255\n",
    "        positive_image_arrays.append(img_array1)\n",
    "        #blurred image array\n",
    "        img_blur = img.filter(ImageFilter.BLUR)\n",
    "        img_array2 = (image.img_to_array(img_blur))/255\n",
    "        positive_image_arrays.append(img_array2)\n",
    "        #rotate 45 blurred image array\n",
    "        img_rot_blur = img.rotate(45,expand=False)\n",
    "        img_rot_blur = img_rot_blur.filter(ImageFilter.BLUR)\n",
    "        img_array3 = (image.img_to_array(img_rot_blur))/255\n",
    "        positive_image_arrays.append(img_array3)\n",
    "        #sharpened image array\n",
    "        img_sharpen = img.filter(ImageFilter.SHARPEN)\n",
    "        img_array4 = (image.img_to_array(img_sharpen))/255\n",
    "        positive_image_arrays.append(img_array4)\n",
    "        #rotated 45 sharpened image array\n",
    "        img_sharp_rot = img.rotate(45,expand=False)\n",
    "        img_sharp_rot = img_sharp_rot.filter(ImageFilter.SHARPEN)\n",
    "        img_array5 = (image.img_to_array(img_sharp_rot))/255\n",
    "        positive_image_arrays.append(img_array5)\n",
    "        #rotate 180 image array\n",
    "        image_rot_180 = img.rotate(180,expand=False)\n",
    "        img_array6 = (image.img_to_array(image_rot_180))/255\n",
    "        positive_image_arrays.append(img_array6)\n",
    "        #rotate 180 blur image array\n",
    "        image_rot_180_blur = img.rotate(180,expand=False)\n",
    "        image_rot_180_blur = image_rot_180_blur.filter(ImageFilter.BLUR)\n",
    "        img_array7 = (image.img_to_array(image_rot_180_blur))/255\n",
    "        positive_image_arrays.append(img_array7)\n",
    "        #rotate 180 sharpen image array\n",
    "        image_rot_180_sharp = img.rotate(180,expand=False)\n",
    "        image_rot_180_sharp = image_rot_180_sharp.filter(ImageFilter.SHARPEN)\n",
    "        img_array8 = (image.img_to_array(image_rot_180_sharp))/255\n",
    "        positive_image_arrays.append(img_array8)\n",
    "      elif jpg in negative_class_files:\n",
    "        negative_image_names.append(jpg)\n",
    "        img_path = os.path.join(file_path,jpg)\n",
    "        img = image.load_img(img_path,target_size=(224,224))\n",
    "        img_array = (image.img_to_array(img))/255\n",
    "        negative_image_arrays.append(img_array)\n",
    "      else:\n",
    "        pass\n",
    "  return positive_image_arrays,positive_image_names,negative_image_arrays,negative_image_names"
   ]
  },
  {
   "cell_type": "code",
   "execution_count": 12,
   "metadata": {},
   "outputs": [],
   "source": [
    "def read_image_val(file_path,positive_class_files,negative_class_files):\n",
    "  positive_image_arrays = []\n",
    "  positive_image_names = []\n",
    "  negative_image_names = []\n",
    "  negative_image_arrays = []\n",
    "  os.listdir(file_path)\n",
    "  for jpg in os.listdir(file_path):\n",
    "    if jpg.endswith(\".jpg\"):\n",
    "      if jpg in positive_class_files:\n",
    "        #original name\n",
    "        positive_image_names.append(jpg)\n",
    "        jpg2 = jpg.split(\".\")\n",
    "        img_path = os.path.join(file_path,jpg)\n",
    "        img = image.load_img(img_path,target_size=(224,224))\n",
    "        #original image array\n",
    "        img_array = (image.img_to_array(img))/255\n",
    "        positive_image_arrays.append(img_array)\n",
    "      elif jpg in negative_class_files:\n",
    "        negative_image_names.append(jpg)\n",
    "        img_path = os.path.join(file_path,jpg)\n",
    "        img = image.load_img(img_path,target_size=(224,224))\n",
    "        img_array = (image.img_to_array(img))/255\n",
    "        negative_image_arrays.append(img_array)\n",
    "      else:\n",
    "        pass\n",
    "  return positive_image_arrays,positive_image_names,negative_image_arrays,negative_image_names"
   ]
  },
  {
   "cell_type": "code",
   "execution_count": 13,
   "metadata": {},
   "outputs": [],
   "source": [
    "#training arrays/names\n",
    "positive_image_arrays,positive_image_names,negative_image_arrays,negative_image_names = read_image(\"/Users/anthonyvillegas/Documents/GitHub/ds-mod-2-0924-code-solutions/cnn-palm-oil/train_images\",positive_class_files,negative_class_files)"
   ]
  },
  {
   "cell_type": "code",
   "execution_count": 14,
   "metadata": {},
   "outputs": [],
   "source": [
    "#validation arrays/names\n",
    "positive_image_arrays_val,positive_image_names_val,negative_image_arrays_val,negative_image_names_val = read_image_val(\"/Users/anthonyvillegas/Documents/GitHub/ds-mod-2-0924-code-solutions/cnn-palm-oil/train_images\",positive_class_val,negative_class_val)"
   ]
  },
  {
   "cell_type": "code",
   "execution_count": 15,
   "metadata": {},
   "outputs": [],
   "source": [
    "#training x & y\n",
    "x = np.concatenate([positive_image_arrays, negative_image_arrays])\n",
    "y = np.concatenate([np.ones(len(positive_image_arrays)), np.zeros(len(negative_image_arrays))])"
   ]
  },
  {
   "cell_type": "code",
   "execution_count": 16,
   "metadata": {},
   "outputs": [],
   "source": [
    "y_list = y.tolist()"
   ]
  },
  {
   "cell_type": "code",
   "execution_count": 17,
   "metadata": {},
   "outputs": [],
   "source": [
    "histo_df = pd.DataFrame(y_list,columns=[\"has_oilpalm\"])"
   ]
  },
  {
   "cell_type": "code",
   "execution_count": 18,
   "metadata": {},
   "outputs": [
    {
     "data": {
      "image/png": "[encoded data removed]",
      "text/plain": [
       "<Figure size 640x480 with 1 Axes>"
      ]
     },
     "metadata": {},
     "output_type": "display_data"
    }
   ],
   "source": [
    "histo2 = sns.countplot(x=\"has_oilpalm\", data=histo_df)"
   ]
  },
  {
   "cell_type": "code",
   "execution_count": 19,
   "metadata": {},
   "outputs": [],
   "source": [
    "#validation x & y\n",
    "x_val = np.concatenate([positive_image_arrays_val, negative_image_arrays_val])\n",
    "y_val = np.concatenate([np.ones(len(positive_image_arrays_val)), np.zeros(len(negative_image_arrays_val))])"
   ]
  },
  {
   "cell_type": "code",
   "execution_count": 89,
   "metadata": {},
   "outputs": [],
   "source": [
    "#image augmentation\n",
    "data_augmentation = tf.keras.Sequential([\n",
    "  layers.RandomFlip(\"horizontal_and_vertical\"),\n",
    "  layers.RandomRotation(0.2),\n",
    "])"
   ]
  },
  {
   "cell_type": "code",
   "execution_count": 132,
   "metadata": {},
   "outputs": [],
   "source": [
    "datagen = ImageDataGenerator(\n",
    "    rotation_range=20,\n",
    "    width_shift_range=0.2,\n",
    "    height_shift_range=0.2,\n",
    "    shear_range=0.2,\n",
    "    zoom_range=0.2,\n",
    "    horizontal_flip=True,\n",
    "    fill_mode='nearest'\n",
    ")"
   ]
  },
  {
   "cell_type": "code",
   "execution_count": 20,
   "metadata": {},
   "outputs": [
    {
     "name": "stderr",
     "output_type": "stream",
     "text": [
      "/Library/Frameworks/Python.framework/Versions/3.12/lib/python3.12/site-packages/keras/src/layers/convolutional/base_conv.py:107: UserWarning: Do not pass an `input_shape`/`input_dim` argument to a layer. When using Sequential models, prefer using an `Input(shape)` object as the first layer in the model instead.\n",
      "  super().__init__(activity_regularizer=activity_regularizer, **kwargs)\n"
     ]
    }
   ],
   "source": [
    "model = keras.Sequential([\n",
    "       layers.Conv2D(32, (3, 3), activation='relu', input_shape=(224, 224, 3)),\n",
    "       layers.MaxPooling2D((2, 2)),\n",
    "       layers.Dropout(0.3),\n",
    "       layers.Conv2D(64, (3, 3), activation='relu'),\n",
    "       layers.MaxPooling2D((2, 2)),\n",
    "       layers.Dropout(0.3),\n",
    "       layers.Flatten(),\n",
    "       layers.Dense(64, activation='relu'),\n",
    "       layers.Dense(1, activation='sigmoid')\n",
    "   ])\n",
    "#batch normalization\n",
    "#dropout layers\n",
    "#augmentation"
   ]
  },
  {
   "cell_type": "code",
   "execution_count": 21,
   "metadata": {},
   "outputs": [],
   "source": [
    "optimizer_object = keras.optimizers.Adam(learning_rate=0.0001)\n",
    "model.compile(optimizer=optimizer_object,\n",
    "                 loss='binary_crossentropy',\n",
    "                 metrics=['accuracy'])"
   ]
  },
  {
   "cell_type": "code",
   "execution_count": 29,
   "metadata": {},
   "outputs": [
    {
     "ename": "",
     "evalue": "",
     "output_type": "error",
     "traceback": [
      "\u001b[1;31mCannot execute code, session has been disposed. Please try restarting the Kernel."
     ]
    },
    {
     "ename": "",
     "evalue": "",
     "output_type": "error",
     "traceback": [
      "\u001b[1;31mCannot execute code, session has been disposed. Please try restarting the Kernel. \n",
      "\u001b[1;31mView Jupyter <a href='command:jupyter.viewOutput'>log</a> for further details."
     ]
    }
   ],
   "source": [
    "history = model.fit(x, y, epochs=20, validation_data=(x_val,y_val))"
   ]
  },
  {
   "cell_type": "code",
   "execution_count": 26,
   "metadata": {},
   "outputs": [
    {
     "ename": "AttributeError",
     "evalue": "'History' object has no attribute 'History'",
     "output_type": "error",
     "traceback": [
      "\u001b[0;31m---------------------------------------------------------------------------\u001b[0m",
      "\u001b[0;31mAttributeError\u001b[0m                            Traceback (most recent call last)",
      "Cell \u001b[0;32mIn[26], line 1\u001b[0m\n\u001b[0;32m----> 1\u001b[0m plt\u001b[38;5;241m.\u001b[39mplot(\u001b[43mmodel\u001b[49m\u001b[38;5;241;43m.\u001b[39;49m\u001b[43mhistory\u001b[49m\u001b[38;5;241;43m.\u001b[39;49m\u001b[43mHistory\u001b[49m[\u001b[38;5;124m'\u001b[39m\u001b[38;5;124mloss\u001b[39m\u001b[38;5;124m'\u001b[39m], label\u001b[38;5;241m=\u001b[39m\u001b[38;5;124m'\u001b[39m\u001b[38;5;124mTraining Loss\u001b[39m\u001b[38;5;124m'\u001b[39m)\n\u001b[1;32m      2\u001b[0m plt\u001b[38;5;241m.\u001b[39mplot(model\u001b[38;5;241m.\u001b[39mhistory\u001b[38;5;241m.\u001b[39mHistory[\u001b[38;5;124m'\u001b[39m\u001b[38;5;124mval_loss\u001b[39m\u001b[38;5;124m'\u001b[39m], label\u001b[38;5;241m=\u001b[39m\u001b[38;5;124m'\u001b[39m\u001b[38;5;124mValidation Loss\u001b[39m\u001b[38;5;124m'\u001b[39m)\n\u001b[1;32m      3\u001b[0m plt\u001b[38;5;241m.\u001b[39mxlabel(\u001b[38;5;124m'\u001b[39m\u001b[38;5;124mEpoch\u001b[39m\u001b[38;5;124m'\u001b[39m)\n",
      "\u001b[0;31mAttributeError\u001b[0m: 'History' object has no attribute 'History'"
     ]
    }
   ],
   "source": [
    "plt.plot(history.history['loss'], label='Training Loss')\n",
    "plt.plot(history.history['val_loss'], label='Validation Loss')\n",
    "plt.xlabel('Epoch')\n",
    "plt.ylabel('Loss')\n",
    "plt.legend()\n",
    "plt.show()"
   ]
  },
  {
   "cell_type": "code",
   "execution_count": null,
   "metadata": {},
   "outputs": [],
   "source": []
  }
 ],
 "metadata": {
  "kernelspec": {
   "display_name": "Python 3",
   "language": "python",
   "name": "python3"
  },
  "language_info": {
   "codemirror_mode": {
    "name": "ipython",
    "version": 3
   },
   "file_extension": ".py",
   "mimetype": "text/x-python",
   "name": "python",
   "nbconvert_exporter": "python",
   "pygments_lexer": "ipython3",
   "version": "3.12.4"
  }
 },
 "nbformat": 4,
 "nbformat_minor": 2
}
