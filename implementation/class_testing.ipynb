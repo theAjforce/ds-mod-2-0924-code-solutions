{
 "cells": [
  {
   "cell_type": "code",
   "execution_count": 1,
   "metadata": {},
   "outputs": [],
   "source": [
    "from functions import *\n",
    "import pandas as pd"
   ]
  },
  {
   "cell_type": "code",
   "execution_count": 2,
   "metadata": {},
   "outputs": [],
   "source": [
    "#file reading\n",
    "file_list = ['application_test.csv','credit_card_balance.csv',\n",
    "             'installments_payments.csv','POS_CASH_balance.csv','previous_application.csv']\n",
    "app_test, ccb, ip, pcb, pa = one_fell_reader(file_list)"
   ]
  },
  {
   "cell_type": "code",
   "execution_count": 3,
   "metadata": {},
   "outputs": [],
   "source": [
    "#merging\n",
    "ccb.drop('SK_ID_CURR',axis=1,inplace=True)\n",
    "pcb = pcb.drop_duplicates('SK_ID_PREV')\n",
    "pcb.drop('SK_ID_CURR',axis=1,inplace=True)\n",
    "ip = ip.groupby(['SK_ID_PREV','SK_ID_CURR'], as_index=False).agg('mean')\n",
    "ip = ip.drop_duplicates('SK_ID_PREV')\n",
    "pa = pa.drop_duplicates('SK_ID_CURR')\n",
    "pa = pa.drop_duplicates('SK_ID_PREV')\n",
    "ip_ccb = ip.merge(ccb, on='SK_ID_PREV', how='left')\n",
    "ip_ccb_pcb = ip_ccb.merge(pcb,on='SK_ID_PREV',how='left')\n",
    "ip_ccb_pcb.drop('SK_ID_CURR',axis=1, inplace=True)\n",
    "pa_ip_ccb_pcb = pa.merge(ip_ccb_pcb, on='SK_ID_PREV', how='left')\n",
    "pa_ip_ccb_pcb.drop('SK_ID_PREV',axis=1,inplace=True)\n",
    "pa_ip_ccb_pcb = pa_ip_ccb_pcb.drop_duplicates('SK_ID_CURR')\n",
    "super_df = app_test.merge(pa_ip_ccb_pcb, on='SK_ID_CURR', how='left') #final merge"
   ]
  },
  {
   "cell_type": "code",
   "execution_count": 4,
   "metadata": {},
   "outputs": [],
   "source": [
    "#dropping all columns with 50% or more null values\n",
    "super_df = one_fell_dropper(super_df)"
   ]
  },
  {
   "cell_type": "code",
   "execution_count": 5,
   "metadata": {},
   "outputs": [],
   "source": [
    "#imputing missing data\n",
    "super_df = one_fell_imputer(super_df)"
   ]
  },
  {
   "cell_type": "code",
   "execution_count": 6,
   "metadata": {},
   "outputs": [],
   "source": [
    "#encoding all categorical data\n",
    "super_df = one_fell_encoder(super_df,'TARGET','binary','encoders.pickle',test=True)"
   ]
  },
  {
   "cell_type": "code",
   "execution_count": 7,
   "metadata": {},
   "outputs": [],
   "source": [
    "#creating the xgbclassifier model\n",
    "model = one_fell_modeler(test=super_df)"
   ]
  }
 ],
 "metadata": {
  "kernelspec": {
   "display_name": "Python 3",
   "language": "python",
   "name": "python3"
  },
  "language_info": {
   "codemirror_mode": {
    "name": "ipython",
    "version": 3
   },
   "file_extension": ".py",
   "mimetype": "text/x-python",
   "name": "python",
   "nbconvert_exporter": "python",
   "pygments_lexer": "ipython3",
   "version": "3.12.4"
  }
 },
 "nbformat": 4,
 "nbformat_minor": 2
}
