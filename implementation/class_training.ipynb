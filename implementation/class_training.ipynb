{
 "cells": [
  {
   "cell_type": "code",
   "execution_count": 1,
   "metadata": {},
   "outputs": [],
   "source": [
    "from functions import one_fell_reader, one_fell_dropper, one_fell_imputer, one_fell_encoder, one_fell_splitter, one_fell_modeler\n",
    "import pandas as pd"
   ]
  },
  {
   "cell_type": "markdown",
   "metadata": {},
   "source": [
    "Reading the csv files into pandas data frames"
   ]
  },
  {
   "cell_type": "code",
   "execution_count": 2,
   "metadata": {},
   "outputs": [],
   "source": [
    "#file reading\n",
    "file_list = ['application_train.csv','credit_card_balance.csv',\n",
    "             'installments_payments.csv','POS_CASH_balance.csv','previous_application.csv']\n",
    "app_train, ccb, ip, pcb, pa = one_fell_reader(file_list)"
   ]
  },
  {
   "cell_type": "markdown",
   "metadata": {},
   "source": [
    "Prepping the data"
   ]
  },
  {
   "cell_type": "code",
   "execution_count": 3,
   "metadata": {},
   "outputs": [],
   "source": [
    "#merging\n",
    "ccb.drop('SK_ID_CURR',axis=1,inplace=True)\n",
    "pcb = pcb.drop_duplicates('SK_ID_PREV')\n",
    "pcb.drop('SK_ID_CURR',axis=1,inplace=True)\n",
    "ip = ip.groupby(['SK_ID_PREV','SK_ID_CURR'], as_index=False).agg('mean')\n",
    "ip = ip.drop_duplicates('SK_ID_PREV')\n",
    "pa = pa.drop_duplicates('SK_ID_CURR')\n",
    "pa = pa.drop_duplicates('SK_ID_PREV')\n",
    "ip_ccb = ip.merge(ccb, on='SK_ID_PREV', how='left')\n",
    "ip_ccb_pcb = ip_ccb.merge(pcb,on='SK_ID_PREV',how='left')\n",
    "ip_ccb_pcb.drop('SK_ID_CURR',axis=1, inplace=True)\n",
    "pa_ip_ccb_pcb = pa.merge(ip_ccb_pcb, on='SK_ID_PREV', how='left')\n",
    "pa_ip_ccb_pcb.drop('SK_ID_PREV',axis=1,inplace=True)\n",
    "pa_ip_ccb_pcb = pa_ip_ccb_pcb.drop_duplicates('SK_ID_CURR')\n",
    "super_df = app_train.merge(pa_ip_ccb_pcb, on='SK_ID_CURR', how='left') #final merge"
   ]
  },
  {
   "cell_type": "code",
   "execution_count": 4,
   "metadata": {},
   "outputs": [],
   "source": [
    "#dropping all columns with 50% or more null values\n",
    "super_df = one_fell_dropper(super_df)"
   ]
  },
  {
   "cell_type": "code",
   "execution_count": 5,
   "metadata": {},
   "outputs": [],
   "source": [
    "#imputing missing data\n",
    "super_df = one_fell_imputer(super_df)"
   ]
  },
  {
   "cell_type": "code",
   "execution_count": 6,
   "metadata": {},
   "outputs": [
    {
     "name": "stderr",
     "output_type": "stream",
     "text": [
      "/Library/Frameworks/Python.framework/Versions/3.12/lib/python3.12/site-packages/sklearn/preprocessing/_label.py:114: DataConversionWarning: A column-vector y was passed when a 1d array was expected. Please change the shape of y to (n_samples, ), for example using ravel().\n",
      "  y = column_or_1d(y, warn=True)\n",
      "/Library/Frameworks/Python.framework/Versions/3.12/lib/python3.12/site-packages/sklearn/preprocessing/_label.py:114: DataConversionWarning: A column-vector y was passed when a 1d array was expected. Please change the shape of y to (n_samples, ), for example using ravel().\n",
      "  y = column_or_1d(y, warn=True)\n",
      "/Library/Frameworks/Python.framework/Versions/3.12/lib/python3.12/site-packages/sklearn/preprocessing/_label.py:114: DataConversionWarning: A column-vector y was passed when a 1d array was expected. Please change the shape of y to (n_samples, ), for example using ravel().\n",
      "  y = column_or_1d(y, warn=True)\n",
      "/Library/Frameworks/Python.framework/Versions/3.12/lib/python3.12/site-packages/sklearn/preprocessing/_label.py:114: DataConversionWarning: A column-vector y was passed when a 1d array was expected. Please change the shape of y to (n_samples, ), for example using ravel().\n",
      "  y = column_or_1d(y, warn=True)\n",
      "/Library/Frameworks/Python.framework/Versions/3.12/lib/python3.12/site-packages/sklearn/preprocessing/_label.py:114: DataConversionWarning: A column-vector y was passed when a 1d array was expected. Please change the shape of y to (n_samples, ), for example using ravel().\n",
      "  y = column_or_1d(y, warn=True)\n",
      "/Library/Frameworks/Python.framework/Versions/3.12/lib/python3.12/site-packages/sklearn/preprocessing/_label.py:114: DataConversionWarning: A column-vector y was passed when a 1d array was expected. Please change the shape of y to (n_samples, ), for example using ravel().\n",
      "  y = column_or_1d(y, warn=True)\n"
     ]
    }
   ],
   "source": [
    "#encoding all categorical data\n",
    "super_df = one_fell_encoder(super_df,'TARGET','binary','encoders.pickle')"
   ]
  },
  {
   "cell_type": "code",
   "execution_count": 7,
   "metadata": {},
   "outputs": [],
   "source": [
    "#splitting the data for validation\n",
    "x = super_df.drop('TARGET',axis=1)\n",
    "y = super_df['TARGET']\n",
    "x_train, x_test, y_train, y_test = one_fell_splitter(x,y,0.25,1)"
   ]
  },
  {
   "cell_type": "markdown",
   "metadata": {},
   "source": [
    "creating the classification model"
   ]
  },
  {
   "cell_type": "code",
   "execution_count": 8,
   "metadata": {},
   "outputs": [],
   "source": [
    "#creating the xgbclassifier model\n",
    "model = one_fell_modeler(x_train,y_train,x_test,y_test)"
   ]
  }
 ],
 "metadata": {
  "kernelspec": {
   "display_name": "Python 3",
   "language": "python",
   "name": "python3"
  },
  "language_info": {
   "codemirror_mode": {
    "name": "ipython",
    "version": 3
   },
   "file_extension": ".py",
   "mimetype": "text/x-python",
   "name": "python",
   "nbconvert_exporter": "python",
   "pygments_lexer": "ipython3",
   "version": "3.12.4"
  }
 },
 "nbformat": 4,
 "nbformat_minor": 2
}
