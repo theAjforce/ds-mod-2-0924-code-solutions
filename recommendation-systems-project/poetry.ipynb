{
 "cells": [
  {
   "cell_type": "code",
   "execution_count": 2,
   "metadata": {},
   "outputs": [],
   "source": [
    "import pandas as pd\n",
    "import numpy as np\n",
    "import pickle\n",
    "from sklearn.metrics.pairwise import cosine_similarity\n",
    "from sklearn.neighbors import NearestNeighbors\n",
    "from scipy.sparse.linalg import svds\n",
    "from sklearn.metrics import root_mean_squared_error\n",
    "from sklearn.model_selection import train_test_split\n",
    "from matplotlib import pyplot as plt"
   ]
  },
  {
   "cell_type": "code",
   "execution_count": 3,
   "metadata": {},
   "outputs": [],
   "source": [
    "df = pd.read_json('goodreads_reviews_poetry.json',lines=True)"
   ]
  },
  {
   "cell_type": "code",
   "execution_count": 4,
   "metadata": {},
   "outputs": [],
   "source": [
    "df = df[['user_id','book_id','rating']]"
   ]
  },
  {
   "cell_type": "code",
   "execution_count": 5,
   "metadata": {},
   "outputs": [],
   "source": [
    "user_counts = df['user_id'].value_counts()\n",
    "book_counts = df['book_id'].value_counts()\n",
    "\n",
    "filtered_users = user_counts[user_counts >= 100].index\n",
    "filtered_books = book_counts[book_counts >= 100].index\n",
    "\n",
    "filtered_df = df[df['user_id'].isin(filtered_users)]\n",
    "filtered_df = df[df['book_id'].isin(filtered_books)]"
   ]
  },
  {
   "cell_type": "code",
   "execution_count": 7,
   "metadata": {},
   "outputs": [
    {
     "data": {
      "text/html": [
       "<div>\n",
       "<style scoped>\n",
       "    .dataframe tbody tr th:only-of-type {\n",
       "        vertical-align: middle;\n",
       "    }\n",
       "\n",
       "    .dataframe tbody tr th {\n",
       "        vertical-align: top;\n",
       "    }\n",
       "\n",
       "    .dataframe thead th {\n",
       "        text-align: right;\n",
       "    }\n",
       "</style>\n",
       "<table border=\"1\" class=\"dataframe\">\n",
       "  <thead>\n",
       "    <tr style=\"text-align: right;\">\n",
       "      <th></th>\n",
       "      <th>user_id</th>\n",
       "      <th>book_id</th>\n",
       "      <th>rating</th>\n",
       "    </tr>\n",
       "  </thead>\n",
       "  <tbody>\n",
       "    <tr>\n",
       "      <th>0</th>\n",
       "      <td>3ca7375dba942a760e53b726c472a7dd</td>\n",
       "      <td>402128</td>\n",
       "      <td>5</td>\n",
       "    </tr>\n",
       "    <tr>\n",
       "      <th>6</th>\n",
       "      <td>af157d0205b8a901dee6d4a2aed7e6ad</td>\n",
       "      <td>23534</td>\n",
       "      <td>5</td>\n",
       "    </tr>\n",
       "    <tr>\n",
       "      <th>7</th>\n",
       "      <td>f4c6fe33ef61c38f7f4aeb5224c259a5</td>\n",
       "      <td>13105527</td>\n",
       "      <td>5</td>\n",
       "    </tr>\n",
       "    <tr>\n",
       "      <th>8</th>\n",
       "      <td>4672eb229c808b792b8ea95f01f19784</td>\n",
       "      <td>1420</td>\n",
       "      <td>1</td>\n",
       "    </tr>\n",
       "    <tr>\n",
       "      <th>9</th>\n",
       "      <td>4672eb229c808b792b8ea95f01f19784</td>\n",
       "      <td>1381</td>\n",
       "      <td>3</td>\n",
       "    </tr>\n",
       "    <tr>\n",
       "      <th>...</th>\n",
       "      <td>...</td>\n",
       "      <td>...</td>\n",
       "      <td>...</td>\n",
       "    </tr>\n",
       "    <tr>\n",
       "      <th>154532</th>\n",
       "      <td>660315d58b3755548cd044eb688914f2</td>\n",
       "      <td>18003300</td>\n",
       "      <td>5</td>\n",
       "    </tr>\n",
       "    <tr>\n",
       "      <th>154535</th>\n",
       "      <td>e72f535e284099b2f587712dc5b6ed4f</td>\n",
       "      <td>13376363</td>\n",
       "      <td>5</td>\n",
       "    </tr>\n",
       "    <tr>\n",
       "      <th>154543</th>\n",
       "      <td>52d58d3b524bf97067792e273f9ba9fa</td>\n",
       "      <td>1371</td>\n",
       "      <td>5</td>\n",
       "    </tr>\n",
       "    <tr>\n",
       "      <th>154549</th>\n",
       "      <td>6bfd86577e73d3d0709451bdc788a501</td>\n",
       "      <td>18003300</td>\n",
       "      <td>5</td>\n",
       "    </tr>\n",
       "    <tr>\n",
       "      <th>154550</th>\n",
       "      <td>ec8f7af656d6e448eea5f47ae504e706</td>\n",
       "      <td>15997</td>\n",
       "      <td>5</td>\n",
       "    </tr>\n",
       "  </tbody>\n",
       "</table>\n",
       "<p>31714 rows × 3 columns</p>\n",
       "</div>"
      ],
      "text/plain": [
       "                                 user_id   book_id  rating\n",
       "0       3ca7375dba942a760e53b726c472a7dd    402128       5\n",
       "6       af157d0205b8a901dee6d4a2aed7e6ad     23534       5\n",
       "7       f4c6fe33ef61c38f7f4aeb5224c259a5  13105527       5\n",
       "8       4672eb229c808b792b8ea95f01f19784      1420       1\n",
       "9       4672eb229c808b792b8ea95f01f19784      1381       3\n",
       "...                                  ...       ...     ...\n",
       "154532  660315d58b3755548cd044eb688914f2  18003300       5\n",
       "154535  e72f535e284099b2f587712dc5b6ed4f  13376363       5\n",
       "154543  52d58d3b524bf97067792e273f9ba9fa      1371       5\n",
       "154549  6bfd86577e73d3d0709451bdc788a501  18003300       5\n",
       "154550  ec8f7af656d6e448eea5f47ae504e706     15997       5\n",
       "\n",
       "[31714 rows x 3 columns]"
      ]
     },
     "execution_count": 7,
     "metadata": {},
     "output_type": "execute_result"
    }
   ],
   "source": [
    "filtered_df"
   ]
  },
  {
   "cell_type": "code",
   "execution_count": 125,
   "metadata": {},
   "outputs": [],
   "source": [
    "average_ratings = filtered_df.groupby('book_id')['rating'].mean()\n"
   ]
  },
  {
   "cell_type": "code",
   "execution_count": 129,
   "metadata": {},
   "outputs": [],
   "source": [
    "sorted_books = average_ratings.sort_values(ascending=False)"
   ]
  },
  {
   "cell_type": "code",
   "execution_count": null,
   "metadata": {},
   "outputs": [],
   "source": [
    "recommendations = sorted_books.head(n).index.tolist()"
   ]
  },
  {
   "cell_type": "code",
   "execution_count": 132,
   "metadata": {},
   "outputs": [],
   "source": [
    "rated_items = df[df['user_id'] == \"15147f5dde107b2c1fe888f88b28c61b\"]['book_id'].tolist()"
   ]
  },
  {
   "cell_type": "code",
   "execution_count": 134,
   "metadata": {},
   "outputs": [
    {
     "data": {
      "text/plain": [
       "[23513349]"
      ]
     },
     "execution_count": 134,
     "metadata": {},
     "output_type": "execute_result"
    }
   ],
   "source": [
    "rated_items"
   ]
  },
  {
   "cell_type": "code",
   "execution_count": 146,
   "metadata": {},
   "outputs": [],
   "source": [
    "user_ratings = um_poet[\"15147f5dde107b2c1fe888f88b28c61b\"]"
   ]
  },
  {
   "cell_type": "code",
   "execution_count": 149,
   "metadata": {},
   "outputs": [],
   "source": [
    "df = pd.read_json('/Users/anthonyvillegas/Documents/GitHub/ds-mod-2-0924-code-solutions/recommendation-systems-project/goodreads_reviews_poetry.json',lines=True)\n",
    "df.to_parquet(\"poetry.parquet\")"
   ]
  },
  {
   "cell_type": "code",
   "execution_count": 147,
   "metadata": {},
   "outputs": [],
   "source": [
    "num_ratings_above_3 = (user_ratings >= 3).sum()"
   ]
  },
  {
   "cell_type": "code",
   "execution_count": 148,
   "metadata": {},
   "outputs": [
    {
     "data": {
      "text/plain": [
       "np.int64(1)"
      ]
     },
     "execution_count": 148,
     "metadata": {},
     "output_type": "execute_result"
    }
   ],
   "source": [
    "num_ratings_above_3"
   ]
  },
  {
   "cell_type": "code",
   "execution_count": 143,
   "metadata": {},
   "outputs": [],
   "source": [
    "def recommend_books(user):\n",
    "    user_ratings = um_poet[user]\n",
    "    num_ratings_above_3 = (user_ratings >= 3).sum()\n",
    "    rated_items = df[df['user_id'] == user]['book_id'].tolist()\n",
    "\n",
    "    if num_ratings_above_3 >= 5: #Only looking at user's that have 5 or more positive ratings\n",
    "        nn = NearestNeighbors(n_neighbors=4)\n",
    "        nn.fit(um_corr)\n",
    "        user_ratings_and_books = {}\n",
    "        for col in um_poet:\n",
    "            user_ratings_and_books[col] = um_poet[col].tolist() #This creates a dictionary that we will use as our linear combination to multiply down axis 0 of the correlation matrix to find the best recommendations\n",
    "        new_matrix = pd.DataFrame((user_ratings_and_books[user] * um_corr).sum(axis=0))\n",
    "        distance, indices = nn.kneighbors(new_matrix.T)\n",
    "        poetry_books = um_poet.T.columns[indices[0][1:4]].tolist()\n",
    "        filtered_recommendations = [item for item in poetry_books if item not in rated_items]\n",
    "        return poetry_books\n",
    "    else:  #If they have fewer than 5 positive ratings they are given a generic recommendation list of items with the highest average rating.\n",
    "        average_ratings = filtered_df.groupby('book_id')['rating'].mean()\n",
    "        sorted_books = average_ratings.sort_values(ascending=False)\n",
    "        recommendations = sorted_books.head(3).index.tolist()\n",
    "        filtered_recommendations = [item for item in recommendations if item not in rated_items]\n",
    "        return filtered_recommendations"
   ]
  },
  {
   "cell_type": "code",
   "execution_count": 144,
   "metadata": {},
   "outputs": [
    {
     "name": "stdout",
     "output_type": "stream",
     "text": [
      "[8471387, 13530012, 2168850]\n"
     ]
    }
   ],
   "source": [
    "print(recommend_books(\"15147f5dde107b2c1fe888f88b28c61b\"))"
   ]
  },
  {
   "cell_type": "code",
   "execution_count": 140,
   "metadata": {},
   "outputs": [
    {
     "ename": "KeyError",
     "evalue": "'item_id'",
     "output_type": "error",
     "traceback": [
      "\u001b[0;31m---------------------------------------------------------------------------\u001b[0m",
      "\u001b[0;31mKeyError\u001b[0m                                  Traceback (most recent call last)",
      "File \u001b[0;32m/Library/Frameworks/Python.framework/Versions/3.12/lib/python3.12/site-packages/pandas/core/indexes/base.py:3805\u001b[0m, in \u001b[0;36mIndex.get_loc\u001b[0;34m(self, key)\u001b[0m\n\u001b[1;32m   3804\u001b[0m \u001b[38;5;28;01mtry\u001b[39;00m:\n\u001b[0;32m-> 3805\u001b[0m     \u001b[38;5;28;01mreturn\u001b[39;00m \u001b[38;5;28;43mself\u001b[39;49m\u001b[38;5;241;43m.\u001b[39;49m\u001b[43m_engine\u001b[49m\u001b[38;5;241;43m.\u001b[39;49m\u001b[43mget_loc\u001b[49m\u001b[43m(\u001b[49m\u001b[43mcasted_key\u001b[49m\u001b[43m)\u001b[49m\n\u001b[1;32m   3806\u001b[0m \u001b[38;5;28;01mexcept\u001b[39;00m \u001b[38;5;167;01mKeyError\u001b[39;00m \u001b[38;5;28;01mas\u001b[39;00m err:\n",
      "File \u001b[0;32mindex.pyx:167\u001b[0m, in \u001b[0;36mpandas._libs.index.IndexEngine.get_loc\u001b[0;34m()\u001b[0m\n",
      "File \u001b[0;32mindex.pyx:196\u001b[0m, in \u001b[0;36mpandas._libs.index.IndexEngine.get_loc\u001b[0;34m()\u001b[0m\n",
      "File \u001b[0;32mpandas/_libs/hashtable_class_helper.pxi:7081\u001b[0m, in \u001b[0;36mpandas._libs.hashtable.PyObjectHashTable.get_item\u001b[0;34m()\u001b[0m\n",
      "File \u001b[0;32mpandas/_libs/hashtable_class_helper.pxi:7089\u001b[0m, in \u001b[0;36mpandas._libs.hashtable.PyObjectHashTable.get_item\u001b[0;34m()\u001b[0m\n",
      "\u001b[0;31mKeyError\u001b[0m: 'item_id'",
      "\nThe above exception was the direct cause of the following exception:\n",
      "\u001b[0;31mKeyError\u001b[0m                                  Traceback (most recent call last)",
      "Cell \u001b[0;32mIn[140], line 1\u001b[0m\n\u001b[0;32m----> 1\u001b[0m rated_items \u001b[38;5;241m=\u001b[39m \u001b[43mdf\u001b[49m\u001b[43m[\u001b[49m\u001b[43mdf\u001b[49m\u001b[43m[\u001b[49m\u001b[38;5;124;43m'\u001b[39;49m\u001b[38;5;124;43muser_id\u001b[39;49m\u001b[38;5;124;43m'\u001b[39;49m\u001b[43m]\u001b[49m\u001b[43m \u001b[49m\u001b[38;5;241;43m==\u001b[39;49m\u001b[43m \u001b[49m\u001b[38;5;124;43m\"\u001b[39;49m\u001b[38;5;124;43m15147f5dde107b2c1fe888f88b28c61b\u001b[39;49m\u001b[38;5;124;43m\"\u001b[39;49m\u001b[43m]\u001b[49m\u001b[43m[\u001b[49m\u001b[38;5;124;43m'\u001b[39;49m\u001b[38;5;124;43mitem_id\u001b[39;49m\u001b[38;5;124;43m'\u001b[39;49m\u001b[43m]\u001b[49m\u001b[38;5;241m.\u001b[39mtolist()\n",
      "File \u001b[0;32m/Library/Frameworks/Python.framework/Versions/3.12/lib/python3.12/site-packages/pandas/core/frame.py:4102\u001b[0m, in \u001b[0;36mDataFrame.__getitem__\u001b[0;34m(self, key)\u001b[0m\n\u001b[1;32m   4100\u001b[0m \u001b[38;5;28;01mif\u001b[39;00m \u001b[38;5;28mself\u001b[39m\u001b[38;5;241m.\u001b[39mcolumns\u001b[38;5;241m.\u001b[39mnlevels \u001b[38;5;241m>\u001b[39m \u001b[38;5;241m1\u001b[39m:\n\u001b[1;32m   4101\u001b[0m     \u001b[38;5;28;01mreturn\u001b[39;00m \u001b[38;5;28mself\u001b[39m\u001b[38;5;241m.\u001b[39m_getitem_multilevel(key)\n\u001b[0;32m-> 4102\u001b[0m indexer \u001b[38;5;241m=\u001b[39m \u001b[38;5;28;43mself\u001b[39;49m\u001b[38;5;241;43m.\u001b[39;49m\u001b[43mcolumns\u001b[49m\u001b[38;5;241;43m.\u001b[39;49m\u001b[43mget_loc\u001b[49m\u001b[43m(\u001b[49m\u001b[43mkey\u001b[49m\u001b[43m)\u001b[49m\n\u001b[1;32m   4103\u001b[0m \u001b[38;5;28;01mif\u001b[39;00m is_integer(indexer):\n\u001b[1;32m   4104\u001b[0m     indexer \u001b[38;5;241m=\u001b[39m [indexer]\n",
      "File \u001b[0;32m/Library/Frameworks/Python.framework/Versions/3.12/lib/python3.12/site-packages/pandas/core/indexes/base.py:3812\u001b[0m, in \u001b[0;36mIndex.get_loc\u001b[0;34m(self, key)\u001b[0m\n\u001b[1;32m   3807\u001b[0m     \u001b[38;5;28;01mif\u001b[39;00m \u001b[38;5;28misinstance\u001b[39m(casted_key, \u001b[38;5;28mslice\u001b[39m) \u001b[38;5;129;01mor\u001b[39;00m (\n\u001b[1;32m   3808\u001b[0m         \u001b[38;5;28misinstance\u001b[39m(casted_key, abc\u001b[38;5;241m.\u001b[39mIterable)\n\u001b[1;32m   3809\u001b[0m         \u001b[38;5;129;01mand\u001b[39;00m \u001b[38;5;28many\u001b[39m(\u001b[38;5;28misinstance\u001b[39m(x, \u001b[38;5;28mslice\u001b[39m) \u001b[38;5;28;01mfor\u001b[39;00m x \u001b[38;5;129;01min\u001b[39;00m casted_key)\n\u001b[1;32m   3810\u001b[0m     ):\n\u001b[1;32m   3811\u001b[0m         \u001b[38;5;28;01mraise\u001b[39;00m InvalidIndexError(key)\n\u001b[0;32m-> 3812\u001b[0m     \u001b[38;5;28;01mraise\u001b[39;00m \u001b[38;5;167;01mKeyError\u001b[39;00m(key) \u001b[38;5;28;01mfrom\u001b[39;00m \u001b[38;5;21;01merr\u001b[39;00m\n\u001b[1;32m   3813\u001b[0m \u001b[38;5;28;01mexcept\u001b[39;00m \u001b[38;5;167;01mTypeError\u001b[39;00m:\n\u001b[1;32m   3814\u001b[0m     \u001b[38;5;66;03m# If we have a listlike key, _check_indexing_error will raise\u001b[39;00m\n\u001b[1;32m   3815\u001b[0m     \u001b[38;5;66;03m#  InvalidIndexError. Otherwise we fall through and re-raise\u001b[39;00m\n\u001b[1;32m   3816\u001b[0m     \u001b[38;5;66;03m#  the TypeError.\u001b[39;00m\n\u001b[1;32m   3817\u001b[0m     \u001b[38;5;28mself\u001b[39m\u001b[38;5;241m.\u001b[39m_check_indexing_error(key)\n",
      "\u001b[0;31mKeyError\u001b[0m: 'item_id'"
     ]
    }
   ],
   "source": [
    "rated_items = df[df['user_id'] == \"15147f5dde107b2c1fe888f88b28c61b\"]['item_id'].tolist()"
   ]
  },
  {
   "cell_type": "code",
   "execution_count": 8,
   "metadata": {},
   "outputs": [
    {
     "data": {
      "text/plain": [
       "book_id\n",
       "23513349    2814\n",
       "20821284    1048\n",
       "30075802    1003\n",
       "1420         984\n",
       "30119        915\n",
       "            ... \n",
       "333706       101\n",
       "27822        101\n",
       "9639765      100\n",
       "12052640     100\n",
       "8423931      100\n",
       "Name: count, Length: 132, dtype: int64"
      ]
     },
     "execution_count": 8,
     "metadata": {},
     "output_type": "execute_result"
    }
   ],
   "source": [
    "filtered_df['book_id'].value_counts()"
   ]
  },
  {
   "cell_type": "code",
   "execution_count": 9,
   "metadata": {},
   "outputs": [
    {
     "data": {
      "text/plain": [
       "user_id\n",
       "058d86a24d8ed0516eca00476ae21a75    24\n",
       "7a4b7bb814dc93c18f458a91142d8cb7    20\n",
       "0017507d4413a03fbfa5848972658206    18\n",
       "d6bdf3222ea9d58fef73bdeb02ee550a    17\n",
       "8eab7ab07787a797aa23531baa0a9e31    17\n",
       "                                    ..\n",
       "fd9c188688f46074d7d08235ce7d4c8e     1\n",
       "c7f85472030fd6c7bec2a05286566bb4     1\n",
       "ede0d1f4c2e530c4bd87ed8286f6e4ef     1\n",
       "608bb7596b0f1a2b8ed612e833eb12e8     1\n",
       "0aa3757d0211254712a16bd8289b461d     1\n",
       "Name: count, Length: 20589, dtype: int64"
      ]
     },
     "execution_count": 9,
     "metadata": {},
     "output_type": "execute_result"
    }
   ],
   "source": [
    "filtered_df['user_id'].value_counts()"
   ]
  },
  {
   "cell_type": "code",
   "execution_count": 6,
   "metadata": {},
   "outputs": [],
   "source": [
    "um_poet = filtered_df.pivot_table(index='book_id',columns='user_id',values='rating').fillna(0)"
   ]
  },
  {
   "cell_type": "code",
   "execution_count": 7,
   "metadata": {},
   "outputs": [],
   "source": [
    "um_poet2 = filtered_df.pivot_table(index='user_id',columns='book_id',values='rating').fillna(0)\n"
   ]
  },
  {
   "cell_type": "code",
   "execution_count": 8,
   "metadata": {},
   "outputs": [],
   "source": [
    "um_corr = um_poet2.corr().fillna(0)"
   ]
  },
  {
   "cell_type": "code",
   "execution_count": 9,
   "metadata": {},
   "outputs": [],
   "source": [
    "cs_poet = cosine_similarity(um_poet)\n",
    "cs_poet = pd.DataFrame(cs_poet,columns=um_poet.T.columns,index=um_poet.T.columns)"
   ]
  },
  {
   "cell_type": "code",
   "execution_count": 102,
   "metadata": {},
   "outputs": [],
   "source": [
    "def create_nn(corr,n):\n",
    "    nn = NearestNeighbors(n_neighbors=n)\n",
    "    nn.fit(corr)\n",
    "    return nn"
   ]
  },
  {
   "cell_type": "code",
   "execution_count": 119,
   "metadata": {},
   "outputs": [],
   "source": [
    "def recommend_books(user,corr,um,nn_model):\n",
    "    user_ratings_and_books = {}\n",
    "    for col in um:\n",
    "        user_ratings_and_books[col] = um[col].tolist()\n",
    "    new_matrix = pd.DataFrame((user_ratings_and_books[user] * corr).sum(axis=0))\n",
    "    distance, indices = nn_model.kneighbors(new_matrix.T)\n",
    "    poetry_books = um.T.columns[indices[0]].tolist()\n",
    "    return poetry_books"
   ]
  },
  {
   "cell_type": "code",
   "execution_count": 11,
   "metadata": {},
   "outputs": [],
   "source": [
    "def svd_values(um,n):\n",
    "    R = um.values\n",
    "    um_mean = np.mean(R,axis=1)\n",
    "    um_mean = um_mean.reshape(-1,1)\n",
    "    R_demeaned = R - um_mean\n",
    "    U, sigma, Vt = svds(R_demeaned,k=n)\n",
    "    sigma = np.diag(sigma)\n",
    "    return U,sigma,Vt,um_mean"
   ]
  },
  {
   "cell_type": "code",
   "execution_count": 12,
   "metadata": {},
   "outputs": [],
   "source": [
    "def new_corr_matrix(U,sigma,Vt,um_mean):\n",
    "    um_reconstructed = U @ sigma @ Vt\n",
    "    um_reconstructed = um_reconstructed + um_mean\n",
    "    new_corr = np.corrcoef(um_reconstructed.T)\n",
    "    new_corr = np.nan_to_num(new_corr)\n",
    "    return new_corr"
   ]
  },
  {
   "cell_type": "code",
   "execution_count": 13,
   "metadata": {},
   "outputs": [],
   "source": [
    "def create_nn_svd(new_corr,n):\n",
    "    nn_svd = NearestNeighbors(n_neighbors=n)\n",
    "    nn_svd.fit(new_corr)\n",
    "    return nn_svd"
   ]
  },
  {
   "cell_type": "code",
   "execution_count": 14,
   "metadata": {},
   "outputs": [],
   "source": [
    "def reco_from_svd(um,user,new_corr,nn_svd):\n",
    "    ratings_vector = np.array(um.loc[user])\n",
    "    new_matrix = pd.DataFrame((ratings_vector * new_corr).sum(axis=0))\n",
    "    distance, indices = nn_svd.kneighbors(new_matrix.T)\n",
    "    poetry_books = um.columns[indices[0]].tolist()\n",
    "    return poetry_books"
   ]
  },
  {
   "cell_type": "code",
   "execution_count": 15,
   "metadata": {},
   "outputs": [],
   "source": [
    "def calc_rmse_matrix(um_poet,um_reconstructed):\n",
    "    squared_diffs = (um_poet - um_reconstructed)**2\n",
    "    mean_squared_diffs = np.mean(squared_diffs) \n",
    "    rmse = np.sqrt(mean_squared_diffs)\n",
    "    return rmse\n"
   ]
  },
  {
   "cell_type": "markdown",
   "metadata": {},
   "source": [
    "predictions based on test data  for every user in the test data you want to compare those predictions with the \n",
    "\n",
    "xtrain is being used to train nn \n",
    "\n",
    "stratify split create the same proportions for each column\n",
    "\n",
    "stratify\n",
    "array-like, default=None\n",
    "If not None, data is split in a stratified fashion, using this as the class labels. Read more in the\n",
    "\n",
    "x train becomes half of the total observations \n",
    "\n",
    "creater utility mstricx based on xtrain and corr matrix and then pass corr matrix into nn\n",
    "\n",
    "for each user you want to take all of the items for each user and filter out so you only get items rated above a certain level.\n",
    "\n",
    "return the item ids (around 5-10) for the user\n",
    "\n",
    "test_um and train_corr\n",
    "\n",
    "compare all k values with original non svd reduced"
   ]
  },
  {
   "cell_type": "code",
   "execution_count": 16,
   "metadata": {},
   "outputs": [],
   "source": [
    "x_train, x_test = train_test_split(filtered_df, test_size=0.5,train_size=0.5,stratify=filtered_df['book_id'],random_state=1)"
   ]
  },
  {
   "cell_type": "code",
   "execution_count": 17,
   "metadata": {},
   "outputs": [],
   "source": [
    "train_um = x_train.pivot_table(index='user_id',columns='book_id',values='rating').fillna(0)"
   ]
  },
  {
   "cell_type": "code",
   "execution_count": 18,
   "metadata": {},
   "outputs": [],
   "source": [
    "test_um = x_test.pivot_table(index='user_id',columns='book_id',values='rating').fillna(0)"
   ]
  },
  {
   "cell_type": "code",
   "execution_count": 19,
   "metadata": {},
   "outputs": [],
   "source": [
    "def svd_range(um, n_range):\n",
    "    values = []\n",
    "    for n in n_range:\n",
    "        U, sigma, Vt, um_mean = svd_values(um, n)\n",
    "        values.append((U, sigma, Vt, um_mean))\n",
    "    return values"
   ]
  },
  {
   "cell_type": "code",
   "execution_count": 20,
   "metadata": {},
   "outputs": [],
   "source": [
    "values = svd_range(train_um,[10,25,50,100])"
   ]
  },
  {
   "cell_type": "code",
   "execution_count": 21,
   "metadata": {},
   "outputs": [],
   "source": [
    "def multi_corr_matrices(values):\n",
    "    corr_matrices = []\n",
    "    for U, sigma, Vt, um_mean in values:\n",
    "        corr_matrix = new_corr_matrix(U, sigma, Vt, um_mean)\n",
    "        corr_matrices.append(corr_matrix)\n",
    "\n",
    "    return corr_matrices"
   ]
  },
  {
   "cell_type": "code",
   "execution_count": 22,
   "metadata": {},
   "outputs": [],
   "source": [
    "corr_matrices = multi_corr_matrices(values)"
   ]
  },
  {
   "cell_type": "code",
   "execution_count": 23,
   "metadata": {},
   "outputs": [],
   "source": [
    "def multi_nn_models(corr_matrices,n):\n",
    "    nn_models = []\n",
    "    for matrix in corr_matrices:\n",
    "        nn_model = NearestNeighbors(n_neighbors=n)\n",
    "        nn_model.fit(matrix)\n",
    "        nn_models.append(nn_model)\n",
    "    return nn_models"
   ]
  },
  {
   "cell_type": "code",
   "execution_count": 24,
   "metadata": {},
   "outputs": [],
   "source": [
    "nn_models = multi_nn_models(corr_matrices,10)"
   ]
  },
  {
   "cell_type": "code",
   "execution_count": 28,
   "metadata": {},
   "outputs": [],
   "source": [
    "def reco_multi_svd(um,user,corr,nn_models):\n",
    "    vector = np.array(um.loc[user])\n",
    "    new_matrices = []\n",
    "    for matrix in corr:\n",
    "        new_matrix = pd.DataFrame((vector * matrix).sum(axis=0))\n",
    "        new_matrices.append(new_matrix)\n",
    "\n",
    "    all_poetry_recs = []\n",
    "\n",
    "    for i,model in enumerate(nn_models):\n",
    "        distance, indices = model.kneighbors(new_matrices[i].T)\n",
    "        poetry_books = um.columns[indices[0]].tolist()\n",
    "        all_poetry_recs.append(poetry_books)\n",
    "\n",
    "    return all_poetry_recs"
   ]
  },
  {
   "cell_type": "code",
   "execution_count": 29,
   "metadata": {},
   "outputs": [],
   "source": [
    "all_recs = reco_multi_svd(test_um,\"0004ae25e3cf5f5a44b6f1ccfdd3d343\",corr_matrices,nn_models)"
   ]
  },
  {
   "cell_type": "code",
   "execution_count": 31,
   "metadata": {},
   "outputs": [],
   "source": [
    "def get_user_rated_books(user_id, um):\n",
    "    user_ratings = um.T.loc[user_id]\n",
    "    rated_books = user_ratings[user_ratings >= 3].index.tolist()\n",
    "    return rated_books"
   ]
  },
  {
   "cell_type": "code",
   "execution_count": 41,
   "metadata": {},
   "outputs": [],
   "source": [
    "rated_list = get_user_rated_books(\"15147f5dde107b2c1fe888f88b28c61b\",um_poet)"
   ]
  },
  {
   "cell_type": "code",
   "execution_count": 42,
   "metadata": {},
   "outputs": [
    {
     "data": {
      "text/plain": [
       "[23513349]"
      ]
     },
     "execution_count": 42,
     "metadata": {},
     "output_type": "execute_result"
    }
   ],
   "source": [
    "rated_list"
   ]
  },
  {
   "cell_type": "code",
   "execution_count": 1,
   "metadata": {},
   "outputs": [],
   "source": [
    "from IPython.display import Markdown, display"
   ]
  },
  {
   "cell_type": "code",
   "execution_count": 71,
   "metadata": {},
   "outputs": [],
   "source": [
    "def match_finder(og_um,train_um,n_range,test_um):\n",
    "    values = svd_range(train_um,n_range)\n",
    "    corr_matrices = multi_corr_matrices(values)\n",
    "    nn_models = multi_nn_models(corr_matrices,10)\n",
    "    recs = {}\n",
    "    column_names = [f\"k={i}\" for i in n_range]\n",
    "    counters = pd.DataFrame(columns=column_names,index=test_um.index)\n",
    "    for user in test_um.index:\n",
    "        rec = reco_multi_svd(test_um,user,corr_matrices,nn_models)\n",
    "        recs[user] = rec\n",
    "\n",
    "    for user in recs:\n",
    "        rated = set(get_user_rated_books(user, og_um))\n",
    "        counter_list =[]\n",
    "        for li in recs[user]:\n",
    "            counter_list.append(len(set(li).intersection(rated)))\n",
    "        counters.loc[user] = counter_list\n",
    "    \n",
    "    counters_series = counters.sum()\n",
    "    display(counters_series)"
   ]
  },
  {
   "cell_type": "code",
   "execution_count": 120,
   "metadata": {},
   "outputs": [],
   "source": [
    "def matches_og(n,um,corr,test_um):\n",
    "    nn = create_nn(corr,n)\n",
    "    recs = {}\n",
    "    column_names = [\"matches\"]\n",
    "    counters = pd.DataFrame(columns=column_names,index=test_um.T.index)\n",
    "    for user in test_um.index:\n",
    "        rec = recommend_books(user=user,corr=corr,um=test_um.T,nn_model= nn)\n",
    "        print(rec)\n",
    "        recs[user] = rec\n",
    "    for user in recs:\n",
    "        rated = set(get_user_rated_books(user,um))\n",
    "        counter_list = []\n",
    "        counter_list.append(len(set(recs[user]).intersection(rated)))\n",
    "        counters.loc[user] = counter_list\n",
    "    counters_series = counters.sum()\n",
    "    display(counters_series)"
   ]
  },
  {
   "cell_type": "code",
   "execution_count": 124,
   "metadata": {},
   "outputs": [
    {
     "name": "stdout",
     "output_type": "stream",
     "text": [
      "[394424, 58098, 17333426, 99944, 27822, 5932, 1724365, 45974, 519112, 46199]\n",
      "[291, 2547, 10806415, 9658269, 13499078, 5582346, 3322992, 20765669, 23519886, 6698181]\n",
      "[10806415, 4488657, 2073853, 6016859, 4096668, 7824768, 5886412, 13499078, 3014384, 11248257]\n",
      "[18003300, 22151696, 25330489, 23627418, 29431081, 13105527, 34023590, 29801264, 20821097, 18288210]\n",
      "[6150360, 3018318, 6054132, 2073853, 10691701, 13499078, 5868421, 3322992, 8471387, 11248257]\n",
      "[34023590, 25986827, 29431081, 23627418, 17333426, 18288210, 25330489, 20821097, 10843755, 29801264]\n",
      "[11409124, 8423931, 12907847, 8901945, 17707772, 25897953, 20821284, 18585282, 20821097, 17243953]\n",
      "[23513349, 2547, 25334576, 30075802, 19351, 25986827, 45974, 20613761, 96259, 6798263]\n"
     ]
    },
    {
     "name": "stderr",
     "output_type": "stream",
     "text": [
      "Exception ignored in: <bound method IPythonKernel._clean_thread_parent_frames of <ipykernel.ipkernel.IPythonKernel object at 0x10da8a390>>\n",
      "Traceback (most recent call last):\n",
      "  File \"/Users/anthonyvillegas/Library/Python/3.12/lib/python/site-packages/ipykernel/ipkernel.py\", line 775, in _clean_thread_parent_frames\n",
      "    def _clean_thread_parent_frames(\n",
      "\n",
      "KeyboardInterrupt: \n"
     ]
    },
    {
     "name": "stdout",
     "output_type": "stream",
     "text": [
      "[8901945, 8411631, 18263725, 20660824, 13530012, 25897953, 12907847, 7493149, 8423931, 17243953]\n",
      "[7824768, 9780454, 12052640, 9858291, 6054132, 3322992, 6150360, 19480887, 10806415, 16170625]\n",
      "[19351, 27822, 14706, 34080, 1371, 3049, 15645, 1381, 2696, 15997]\n",
      "[30118, 12907847, 23919, 519112, 15645, 25986827, 27494, 25334576, 17333426, 400412]\n",
      "[3018318, 2073853, 6016859, 3014384, 10243089, 8471387, 7787218, 11248257, 6054132, 11296693]\n",
      "[22151696, 18003300, 25330489, 29431081, 23627418, 34023590, 13105527, 20821097, 23522212, 18288210]\n",
      "[402128, 732562, 395090, 9639765, 3049, 34080, 42038, 6364068, 29358559, 11904233]\n",
      "[20483085, 13530012, 12907847, 20660824, 17243953, 14553840, 20821284, 33004289, 16099190, 18263725]\n",
      "[394424, 17707772, 58098, 676, 29358559, 13588404, 9639765, 333706, 732562, 1724365]\n",
      "[23919, 27494, 732562, 99944, 15997, 45974, 14553840, 402128, 400412, 82356]\n",
      "[6343963, 4488657, 16170625, 5868421, 6154130, 8471387, 10810038, 7787218, 6150360, 19480887]\n",
      "[11904233, 16099190, 17333426, 17707772, 9639765, 23522212, 10843755, 402128, 15798111, 14553840]\n",
      "[7787218, 27775468, 8471387, 6343963, 11248257, 11296693, 10243089, 11295077, 6154130, 3018318]\n",
      "[20613761, 9639765, 6798263, 13376363, 61049, 25334576, 13588404, 29358559, 18585282, 17707772]\n",
      "[6387626, 16099190, 9639765, 29358559, 6364068, 1724365, 676, 58098, 13588404, 20613761]\n",
      "[17333426, 58098, 394424, 1724365, 519112, 45974, 99944, 5932, 27822, 23919]\n",
      "[42038, 91571, 82356, 6295, 1420, 15997, 3049, 732562, 402128, 27494]\n",
      "[30119, 1420, 2547, 1381, 20821284, 1371, 25986827, 6656, 30118, 2696]\n",
      "[14553840, 20483085, 16099190, 732562, 17243953, 15798111, 8411631, 11904233, 402128, 23919]\n",
      "[2930911, 402128, 53498, 7493149, 8411631, 18263725, 8423931, 12907847, 20660824, 20821284]\n",
      "[23519886, 10691701, 20765669, 20614795, 18879551, 13499078, 9780454, 3322992, 19480887, 6154130]\n",
      "[12068397, 9658269, 2168850, 6016859, 4096668, 5886412, 6154130, 8471387, 10806415, 3018318]\n",
      "[1432, 91571, 333706, 34080, 82356, 27494, 395090, 3049, 29358559, 61049]\n",
      "[27494, 15997, 6295, 15645, 400412, 2547, 12914, 23919, 42038, 1432]\n",
      "[30119, 1420, 1381, 2547, 20821284, 1371, 25986827, 30118, 6656, 2696]\n",
      "[18263725, 25897953, 20660824, 20821284, 8901945, 33004289, 8423931, 2930911, 8411631, 17243953]\n",
      "[34023590, 29431081, 25330489, 22151696, 23627418, 18003300, 25986827, 18288210, 35606560, 20821097]\n",
      "[30119, 1420, 2547, 1381, 20821284, 1371, 25986827, 6656, 30118, 2696]\n",
      "[27494, 61049, 6295, 96259, 15997, 400412, 15645, 34080, 1432, 20613761]\n",
      "[1715, 12914, 1381, 99944, 15645, 2696, 15997, 1371, 19351, 23534]\n",
      "[394424, 58098, 99944, 27822, 5932, 1724365, 45974, 17333426, 46199, 519112]\n",
      "[11904233, 16099190, 17333426, 17707772, 9639765, 10843755, 402128, 23522212, 14553840, 15798111]\n",
      "[23627418, 15997, 22151696, 29431081, 25330489, 18003300, 23522212, 15645, 18288210, 14706]\n",
      "[30118, 30119, 23919, 12907847, 400412, 732562, 27494, 42038, 519112, 6295]\n",
      "[15997, 15645, 2696, 3049, 14706, 6656, 12914, 27494, 1371, 42038]\n",
      "[14706, 15997, 15645, 19351, 1420, 6656, 12914, 34080, 1715, 395090]\n",
      "[394424, 58098, 99944, 27822, 5932, 1724365, 17333426, 45974, 46199, 519112]\n",
      "[35606560, 25986827, 30119, 1420, 2547, 1381, 20821284, 1371, 30118, 53498]\n",
      "[23513349, 2547, 25334576, 30075802, 19351, 25986827, 45974, 20613761, 96259, 6798263]\n",
      "[34023590, 25986827, 29431081, 23627418, 17333426, 18288210, 25330489, 20821097, 10843755, 29801264]\n",
      "[23519886, 20765669, 20614795, 10691701, 18879551, 13499078, 27775468, 3322992, 19480887, 12052640]\n",
      "[23534, 5932, 400412, 45974, 1715, 34080, 395090, 6295, 519112, 13105527]\n",
      "[394424, 58098, 99944, 17333426, 5932, 27822, 1724365, 46199, 45974, 519112]\n",
      "[30119, 1420, 1381, 2547, 20821284, 1371, 25986827, 30118, 18263725, 6656]\n",
      "[23513349, 2547, 25334576, 30075802, 19351, 25986827, 45974, 20613761, 96259, 6798263]\n",
      "[394424, 58098, 99944, 17333426, 5932, 27822, 1724365, 46199, 45974, 519112]\n",
      "[17333426, 1724365, 10843755, 29801264, 519112, 6364068, 45974, 58098, 23919, 14553840]\n",
      "[53498, 2930911, 8411631, 7493149, 18263725, 17243953, 20660824, 20821284, 8901945, 8423931]\n",
      "[1381, 1371, 12914, 1715, 15645, 19351, 400412, 27822, 6656, 2696]\n",
      "[13105527, 23522212, 20821097, 18288210, 22151696, 23627418, 29431081, 18003300, 30075802, 25330489]\n",
      "[18879551, 10691701, 23519886, 20765669, 13499078, 20614795, 6698181, 7824768, 3322992, 9780454]\n",
      "[18585282, 30119, 25986827, 1420, 2547, 13376363, 45974, 1381, 20613761, 6656]\n",
      "[25330489, 29431081, 22151696, 18003300, 18585282, 23627418, 34023590, 23522212, 13105527, 30075802]\n",
      "[11409124, 8423931, 12907847, 8901945, 25897953, 20821284, 17707772, 18585282, 17243953, 8411631]\n",
      "[25986827, 35606560, 13376363, 34023590, 96259, 29801264, 394424, 58098, 10843755, 400412]\n",
      "[29358559, 13588404, 15798111, 9639765, 20613761, 6798263, 6387626, 18288210, 17707772, 18585282]\n",
      "[30119, 1420, 1381, 2547, 20821284, 1371, 25986827, 30118, 6656, 2696]\n",
      "[18003300, 22151696, 25330489, 23627418, 29431081, 13105527, 34023590, 29801264, 20821097, 18288210]\n",
      "[20821284, 20483085, 8423931, 16099190, 11409124, 58098, 20613761, 14553840, 13530012, 33004289]\n",
      "[30119, 1420, 1381, 2547, 20821284, 1371, 25986827, 30118, 18263725, 6656]\n",
      "[20821284, 8423931, 20483085, 16099190, 20613761, 11409124, 58098, 18263725, 13530012, 17243953]\n",
      "[12068397, 10806415, 3014384, 2073853, 6016859, 8471387, 3018318, 9658269, 11248257, 4488657]\n",
      "[394424, 58098, 99944, 27822, 5932, 1724365, 45974, 46199, 17333426, 519112]\n",
      "[15645, 15997, 12914, 14706, 1371, 1381, 1715, 1420, 27494, 99944]\n",
      "[20613761, 9639765, 6798263, 13376363, 61049, 25334576, 13588404, 29358559, 18585282, 17707772]\n",
      "[1371, 1381, 12914, 333706, 2696, 15645, 15997, 19351, 1715, 6656]\n",
      "[25986827, 35606560, 13376363, 34023590, 96259, 29801264, 394424, 10843755, 58098, 400412]\n",
      "[15997, 15645, 2696, 3049, 14706, 6656, 12914, 27494, 1371, 42038]\n",
      "[30119, 1420, 1381, 2547, 20821284, 1371, 25986827, 30118, 6656, 2696]\n",
      "[12907847, 8411631, 8901945, 20483085, 8423931, 13530012, 2930911, 17243953, 9639765, 11409124]\n",
      "[18879551, 10691701, 23519886, 20765669, 13499078, 20614795, 6698181, 7824768, 3322992, 9780454]\n",
      "[10691701, 18879551, 23519886, 13499078, 6054132, 5868421, 9780454, 6150360, 7787218, 11295077]\n",
      "[20613761, 9639765, 6798263, 13376363, 61049, 25334576, 13588404, 29358559, 18585282, 17707772]\n",
      "[8471387, 11296693, 6343963, 11248257, 6154130, 6016859, 11295077, 7787218, 10243089, 6284614]\n",
      "[732562, 402128, 3049, 34080, 400412, 2696, 42038, 15997, 6295, 12914]\n",
      "[20613761, 9639765, 6798263, 13376363, 61049, 25334576, 13588404, 29358559, 18585282, 17707772]\n",
      "[1381, 1371, 12914, 2696, 1715, 15645, 1420, 6656, 19351, 400412]\n",
      "[10806415, 23519886, 4488657, 10691701, 13499078, 2073853, 11248257, 7824768, 7787218, 5868421]\n",
      "[10691701, 18879551, 23519886, 13499078, 6054132, 5868421, 9780454, 6150360, 19039662, 7787218]\n",
      "[6387626, 16099190, 9639765, 29358559, 6364068, 1724365, 676, 58098, 13588404, 20613761]\n",
      "[30119, 1420, 1381, 2547, 20821284, 1371, 25986827, 30118, 6656, 2696]\n",
      "[30119, 1420, 1381, 2547, 20821284, 1371, 25986827, 30118, 6656, 2696]\n",
      "[1371, 1381, 12914, 333706, 2696, 15645, 15997, 19351, 1715, 1420]\n",
      "[20821284, 20483085, 8423931, 16099190, 11409124, 58098, 20613761, 14553840, 13530012, 33004289]\n",
      "[61049, 9639765, 96259, 20613761, 13376363, 13588404, 676, 6798263, 34080, 6364068]\n",
      "[20821284, 8423931, 20483085, 16099190, 20613761, 11409124, 58098, 18263725, 13530012, 17243953]\n",
      "[20821284, 8423931, 20483085, 16099190, 20613761, 11409124, 58098, 18263725, 13530012, 17243953]\n",
      "[23919, 27494, 732562, 99944, 15997, 45974, 14553840, 402128, 400412, 82356]\n",
      "[519112, 18003300, 22151696, 25330489, 23627418, 13105527, 29801264, 34023590, 20821097, 18288210]\n",
      "[30119, 1420, 1381, 2547, 20821284, 1371, 25986827, 30118, 6656, 2696]\n",
      "[18263725, 25897953, 20660824, 20821284, 8901945, 33004289, 8423931, 2930911, 8411631, 17243953]\n",
      "[18263725, 25897953, 20660824, 20821284, 8901945, 33004289, 8423931, 2930911, 8411631, 17243953]\n",
      "[23522212, 18288210, 13105527, 23627418, 29431081, 18585282, 25330489, 22151696, 30075802, 23513349]\n",
      "[395090, 23534, 6295, 400412, 9639765, 34080, 5932, 676, 96259, 402128]\n",
      "[53498, 2930911, 8411631, 7493149, 18263725, 17243953, 20660824, 20821284, 8901945, 8423931]\n",
      "[46199, 45974, 6798263, 5932, 395090, 12907847, 18288210, 23534, 6295, 17707772]\n",
      "[33004289, 25897953, 18263725, 20660824, 13530012, 20483085, 17243953, 20821284, 15798111, 14553840]\n",
      "[6343963, 7787218, 8471387, 5868421, 6154130, 3014384, 3018318, 10243089, 6016859, 2073853]\n",
      "[18585282, 13376363, 30075802, 23522212, 13105527, 23513349, 35606560, 20613761, 18288210, 96259]\n",
      "[23513349, 2547, 25334576, 30075802, 19351, 25986827, 45974, 20613761, 96259, 6798263]\n",
      "[18263725, 25897953, 20660824, 20821284, 8901945, 33004289, 8423931, 2930911, 8411631, 17243953]\n",
      "[18263725, 20821284, 25897953, 20660824, 8901945, 33004289, 8423931, 2930911, 8411631, 17243953]\n",
      "[34023590, 29431081, 25330489, 23627418, 22151696, 25986827, 18288210, 18003300, 20821097, 35606560]\n",
      "[1371, 61049, 1381, 12914, 333706, 2696, 15645, 15997, 19351, 1715]\n",
      "[35606560, 23513349, 30075802, 29431081, 20821097, 25986827, 18585282, 18288210, 23627418, 13105527]\n",
      "[6656, 15997, 12914, 19351, 14706, 732562, 27494, 2696, 99944, 34080]\n",
      "[16170625, 10810038, 6150360, 19480887, 5886412, 4488657, 11248257, 8471387, 10243089, 7824768]\n",
      "[17707772, 14553840, 13588404, 15798111, 6364068, 11904233, 16099190, 20613761, 20483085, 29358559]\n",
      "[19039662, 20765669, 10691701, 9658269, 12068397, 13499078, 3322992, 9858291, 6284614, 6698181]\n",
      "[394424, 58098, 17333426, 1724365, 45974, 519112, 99944, 5932, 46199, 27822]\n",
      "[30119, 1420, 1381, 2547, 20821284, 1371, 25986827, 30118, 6656, 2696]\n",
      "[18003300, 22151696, 25330489, 23627418, 29431081, 13105527, 34023590, 29801264, 20821097, 18288210]\n",
      "[30119, 1420, 1381, 2547, 20821284, 1371, 25986827, 30118, 6656, 2696]\n",
      "[6284614, 9658269, 6150360, 6698181, 27775468, 13499078, 10243089, 12068397, 2073853, 16170625]\n",
      "[10843755, 58098, 11904233, 16099190, 1724365, 394424, 6364068, 99944, 27822, 17333426]\n",
      "[25330489, 22151696, 29431081, 18003300, 34023590, 30119, 23627418, 20821097, 1420, 2547]\n",
      "[394424, 58098, 99944, 27822, 5932, 1724365, 45974, 46199, 17333426, 23919]\n",
      "[14706, 15997, 15645, 19351, 1420, 6656, 12914, 34080, 1715, 1371]\n",
      "[30119, 1420, 1381, 2547, 20821284, 1371, 25986827, 30118, 18263725, 6656]\n",
      "[20613761, 9639765, 6798263, 13376363, 61049, 25334576, 13588404, 29358559, 18585282, 17707772]\n",
      "[6284614, 9658269, 6698181, 6150360, 27775468, 13499078, 12068397, 10243089, 5582346, 2073853]\n",
      "[5886412, 16170625, 6150360, 11248257, 4488657, 10243089, 11296693, 10810038, 6698181, 10806415]\n",
      "[732562, 402128, 3049, 34080, 400412, 42038, 2696, 15997, 6295, 12914]\n",
      "[18263725, 25897953, 20660824, 20821284, 8901945, 33004289, 8423931, 2930911, 8411631, 17243953]\n",
      "[394424, 58098, 17333426, 1724365, 45974, 519112, 46199, 99944, 5932, 10843755]\n",
      "[333706, 1371, 2696, 1432, 12914, 15997, 91571, 676, 1715, 34080]\n",
      "[402128, 732562, 395090, 9639765, 3049, 34080, 42038, 6364068, 29358559, 11904233]\n",
      "[20613761, 20821284, 9639765, 6798263, 13376363, 61049, 25334576, 13588404, 29358559, 17707772]\n",
      "[16170625, 10810038, 6150360, 19480887, 5886412, 4488657, 11248257, 8471387, 10243089, 7824768]\n",
      "[10843755, 11904233, 13530012, 58098, 16099190, 12907847, 6364068, 15798111, 25986827, 1724365]\n",
      "[14706, 15997, 15645, 19351, 1420, 6656, 12914, 34080, 1715, 395090]\n",
      "[18003300, 22151696, 25330489, 23627418, 29431081, 13105527, 34023590, 29801264, 20821097, 18288210]\n",
      "[25986827, 35606560, 13376363, 34023590, 96259, 29801264, 394424, 10843755, 58098, 400412]\n"
     ]
    },
    {
     "ename": "KeyboardInterrupt",
     "evalue": "",
     "output_type": "error",
     "traceback": [
      "\u001b[0;31m---------------------------------------------------------------------------\u001b[0m",
      "\u001b[0;31mKeyboardInterrupt\u001b[0m                         Traceback (most recent call last)",
      "Cell \u001b[0;32mIn[124], line 1\u001b[0m\n\u001b[0;32m----> 1\u001b[0m \u001b[43mmatches_og\u001b[49m\u001b[43m(\u001b[49m\u001b[38;5;241;43m10\u001b[39;49m\u001b[43m,\u001b[49m\u001b[43mum_poet\u001b[49m\u001b[43m,\u001b[49m\u001b[43mum_corr\u001b[49m\u001b[43m,\u001b[49m\u001b[43mtest_um\u001b[49m\u001b[43m)\u001b[49m\n",
      "Cell \u001b[0;32mIn[120], line 7\u001b[0m, in \u001b[0;36mmatches_og\u001b[0;34m(n, um, corr, test_um)\u001b[0m\n\u001b[1;32m      5\u001b[0m counters \u001b[38;5;241m=\u001b[39m pd\u001b[38;5;241m.\u001b[39mDataFrame(columns\u001b[38;5;241m=\u001b[39mcolumn_names,index\u001b[38;5;241m=\u001b[39mtest_um\u001b[38;5;241m.\u001b[39mT\u001b[38;5;241m.\u001b[39mindex)\n\u001b[1;32m      6\u001b[0m \u001b[38;5;28;01mfor\u001b[39;00m user \u001b[38;5;129;01min\u001b[39;00m test_um\u001b[38;5;241m.\u001b[39mindex:\n\u001b[0;32m----> 7\u001b[0m     rec \u001b[38;5;241m=\u001b[39m \u001b[43mrecommend_books\u001b[49m\u001b[43m(\u001b[49m\u001b[43muser\u001b[49m\u001b[38;5;241;43m=\u001b[39;49m\u001b[43muser\u001b[49m\u001b[43m,\u001b[49m\u001b[43mcorr\u001b[49m\u001b[38;5;241;43m=\u001b[39;49m\u001b[43mcorr\u001b[49m\u001b[43m,\u001b[49m\u001b[43mum\u001b[49m\u001b[38;5;241;43m=\u001b[39;49m\u001b[43mtest_um\u001b[49m\u001b[38;5;241;43m.\u001b[39;49m\u001b[43mT\u001b[49m\u001b[43m,\u001b[49m\u001b[43mnn_model\u001b[49m\u001b[38;5;241;43m=\u001b[39;49m\u001b[43m \u001b[49m\u001b[43mnn\u001b[49m\u001b[43m)\u001b[49m\n\u001b[1;32m      8\u001b[0m     \u001b[38;5;28mprint\u001b[39m(rec)\n\u001b[1;32m      9\u001b[0m     recs[user] \u001b[38;5;241m=\u001b[39m rec\n",
      "Cell \u001b[0;32mIn[119], line 4\u001b[0m, in \u001b[0;36mrecommend_books\u001b[0;34m(user, corr, um, nn_model)\u001b[0m\n\u001b[1;32m      2\u001b[0m user_ratings_and_books \u001b[38;5;241m=\u001b[39m {}\n\u001b[1;32m      3\u001b[0m \u001b[38;5;28;01mfor\u001b[39;00m col \u001b[38;5;129;01min\u001b[39;00m um:\n\u001b[0;32m----> 4\u001b[0m     user_ratings_and_books[col] \u001b[38;5;241m=\u001b[39m \u001b[43mum\u001b[49m\u001b[43m[\u001b[49m\u001b[43mcol\u001b[49m\u001b[43m]\u001b[49m\u001b[38;5;241m.\u001b[39mtolist()\n\u001b[1;32m      5\u001b[0m new_matrix \u001b[38;5;241m=\u001b[39m pd\u001b[38;5;241m.\u001b[39mDataFrame((user_ratings_and_books[user] \u001b[38;5;241m*\u001b[39m corr)\u001b[38;5;241m.\u001b[39msum(axis\u001b[38;5;241m=\u001b[39m\u001b[38;5;241m0\u001b[39m))\n\u001b[1;32m      6\u001b[0m distance, indices \u001b[38;5;241m=\u001b[39m nn_model\u001b[38;5;241m.\u001b[39mkneighbors(new_matrix\u001b[38;5;241m.\u001b[39mT)\n",
      "File \u001b[0;32m/Library/Frameworks/Python.framework/Versions/3.12/lib/python3.12/site-packages/pandas/core/frame.py:4078\u001b[0m, in \u001b[0;36mDataFrame.__getitem__\u001b[0;34m(self, key)\u001b[0m\n\u001b[1;32m   4071\u001b[0m \u001b[38;5;66;03m# GH#45316 Return view if key is not duplicated\u001b[39;00m\n\u001b[1;32m   4072\u001b[0m \u001b[38;5;66;03m# Only use drop_duplicates with duplicates for performance\u001b[39;00m\n\u001b[1;32m   4073\u001b[0m \u001b[38;5;28;01mif\u001b[39;00m \u001b[38;5;129;01mnot\u001b[39;00m is_mi \u001b[38;5;129;01mand\u001b[39;00m (\n\u001b[1;32m   4074\u001b[0m     \u001b[38;5;28mself\u001b[39m\u001b[38;5;241m.\u001b[39mcolumns\u001b[38;5;241m.\u001b[39mis_unique\n\u001b[1;32m   4075\u001b[0m     \u001b[38;5;129;01mand\u001b[39;00m key \u001b[38;5;129;01min\u001b[39;00m \u001b[38;5;28mself\u001b[39m\u001b[38;5;241m.\u001b[39mcolumns\n\u001b[1;32m   4076\u001b[0m     \u001b[38;5;129;01mor\u001b[39;00m key \u001b[38;5;129;01min\u001b[39;00m \u001b[38;5;28mself\u001b[39m\u001b[38;5;241m.\u001b[39mcolumns\u001b[38;5;241m.\u001b[39mdrop_duplicates(keep\u001b[38;5;241m=\u001b[39m\u001b[38;5;28;01mFalse\u001b[39;00m)\n\u001b[1;32m   4077\u001b[0m ):\n\u001b[0;32m-> 4078\u001b[0m     \u001b[38;5;28;01mreturn\u001b[39;00m \u001b[38;5;28;43mself\u001b[39;49m\u001b[38;5;241;43m.\u001b[39;49m\u001b[43m_get_item_cache\u001b[49m\u001b[43m(\u001b[49m\u001b[43mkey\u001b[49m\u001b[43m)\u001b[49m\n\u001b[1;32m   4080\u001b[0m \u001b[38;5;28;01melif\u001b[39;00m is_mi \u001b[38;5;129;01mand\u001b[39;00m \u001b[38;5;28mself\u001b[39m\u001b[38;5;241m.\u001b[39mcolumns\u001b[38;5;241m.\u001b[39mis_unique \u001b[38;5;129;01mand\u001b[39;00m key \u001b[38;5;129;01min\u001b[39;00m \u001b[38;5;28mself\u001b[39m\u001b[38;5;241m.\u001b[39mcolumns:\n\u001b[1;32m   4081\u001b[0m     \u001b[38;5;28;01mreturn\u001b[39;00m \u001b[38;5;28mself\u001b[39m\u001b[38;5;241m.\u001b[39m_getitem_multilevel(key)\n",
      "File \u001b[0;32m/Library/Frameworks/Python.framework/Versions/3.12/lib/python3.12/site-packages/pandas/core/frame.py:4639\u001b[0m, in \u001b[0;36mDataFrame._get_item_cache\u001b[0;34m(self, item)\u001b[0m\n\u001b[1;32m   4634\u001b[0m \u001b[38;5;28;01mif\u001b[39;00m res \u001b[38;5;129;01mis\u001b[39;00m \u001b[38;5;28;01mNone\u001b[39;00m:\n\u001b[1;32m   4635\u001b[0m     \u001b[38;5;66;03m# All places that call _get_item_cache have unique columns,\u001b[39;00m\n\u001b[1;32m   4636\u001b[0m     \u001b[38;5;66;03m#  pending resolution of GH#33047\u001b[39;00m\n\u001b[1;32m   4638\u001b[0m     loc \u001b[38;5;241m=\u001b[39m \u001b[38;5;28mself\u001b[39m\u001b[38;5;241m.\u001b[39mcolumns\u001b[38;5;241m.\u001b[39mget_loc(item)\n\u001b[0;32m-> 4639\u001b[0m     res \u001b[38;5;241m=\u001b[39m \u001b[38;5;28;43mself\u001b[39;49m\u001b[38;5;241;43m.\u001b[39;49m\u001b[43m_ixs\u001b[49m\u001b[43m(\u001b[49m\u001b[43mloc\u001b[49m\u001b[43m,\u001b[49m\u001b[43m \u001b[49m\u001b[43maxis\u001b[49m\u001b[38;5;241;43m=\u001b[39;49m\u001b[38;5;241;43m1\u001b[39;49m\u001b[43m)\u001b[49m\n\u001b[1;32m   4641\u001b[0m     cache[item] \u001b[38;5;241m=\u001b[39m res\n\u001b[1;32m   4643\u001b[0m     \u001b[38;5;66;03m# for a chain\u001b[39;00m\n",
      "File \u001b[0;32m/Library/Frameworks/Python.framework/Versions/3.12/lib/python3.12/site-packages/pandas/core/frame.py:4011\u001b[0m, in \u001b[0;36mDataFrame._ixs\u001b[0;34m(self, i, axis)\u001b[0m\n\u001b[1;32m   4008\u001b[0m label \u001b[38;5;241m=\u001b[39m \u001b[38;5;28mself\u001b[39m\u001b[38;5;241m.\u001b[39mcolumns[i]\n\u001b[1;32m   4010\u001b[0m col_mgr \u001b[38;5;241m=\u001b[39m \u001b[38;5;28mself\u001b[39m\u001b[38;5;241m.\u001b[39m_mgr\u001b[38;5;241m.\u001b[39miget(i)\n\u001b[0;32m-> 4011\u001b[0m result \u001b[38;5;241m=\u001b[39m \u001b[38;5;28;43mself\u001b[39;49m\u001b[38;5;241;43m.\u001b[39;49m\u001b[43m_box_col_values\u001b[49m\u001b[43m(\u001b[49m\u001b[43mcol_mgr\u001b[49m\u001b[43m,\u001b[49m\u001b[43m \u001b[49m\u001b[43mi\u001b[49m\u001b[43m)\u001b[49m\n\u001b[1;32m   4013\u001b[0m \u001b[38;5;66;03m# this is a cached value, mark it so\u001b[39;00m\n\u001b[1;32m   4014\u001b[0m result\u001b[38;5;241m.\u001b[39m_set_as_cached(label, \u001b[38;5;28mself\u001b[39m)\n",
      "File \u001b[0;32m/Library/Frameworks/Python.framework/Versions/3.12/lib/python3.12/site-packages/pandas/core/frame.py:4614\u001b[0m, in \u001b[0;36mDataFrame._box_col_values\u001b[0;34m(self, values, loc)\u001b[0m\n\u001b[1;32m   4609\u001b[0m \u001b[38;5;250m\u001b[39m\u001b[38;5;124;03m\"\"\"\u001b[39;00m\n\u001b[1;32m   4610\u001b[0m \u001b[38;5;124;03mProvide boxed values for a column.\u001b[39;00m\n\u001b[1;32m   4611\u001b[0m \u001b[38;5;124;03m\"\"\"\u001b[39;00m\n\u001b[1;32m   4612\u001b[0m \u001b[38;5;66;03m# Lookup in columns so that if e.g. a str datetime was passed\u001b[39;00m\n\u001b[1;32m   4613\u001b[0m \u001b[38;5;66;03m#  we attach the Timestamp object as the name.\u001b[39;00m\n\u001b[0;32m-> 4614\u001b[0m name \u001b[38;5;241m=\u001b[39m \u001b[38;5;28;43mself\u001b[39;49m\u001b[38;5;241;43m.\u001b[39;49m\u001b[43mcolumns\u001b[49m\u001b[43m[\u001b[49m\u001b[43mloc\u001b[49m\u001b[43m]\u001b[49m\n\u001b[1;32m   4615\u001b[0m \u001b[38;5;66;03m# We get index=self.index bc values is a SingleDataManager\u001b[39;00m\n\u001b[1;32m   4616\u001b[0m obj \u001b[38;5;241m=\u001b[39m \u001b[38;5;28mself\u001b[39m\u001b[38;5;241m.\u001b[39m_constructor_sliced_from_mgr(values, axes\u001b[38;5;241m=\u001b[39mvalues\u001b[38;5;241m.\u001b[39maxes)\n",
      "File \u001b[0;32m/Library/Frameworks/Python.framework/Versions/3.12/lib/python3.12/site-packages/pandas/core/indexes/base.py:5386\u001b[0m, in \u001b[0;36mIndex.__getitem__\u001b[0;34m(self, key)\u001b[0m\n\u001b[1;32m   5374\u001b[0m \u001b[38;5;250m\u001b[39m\u001b[38;5;124;03m\"\"\"\u001b[39;00m\n\u001b[1;32m   5375\u001b[0m \u001b[38;5;124;03mOverride numpy.ndarray's __getitem__ method to work as desired.\u001b[39;00m\n\u001b[1;32m   5376\u001b[0m \n\u001b[0;32m   (...)\u001b[0m\n\u001b[1;32m   5382\u001b[0m \n\u001b[1;32m   5383\u001b[0m \u001b[38;5;124;03m\"\"\"\u001b[39;00m\n\u001b[1;32m   5384\u001b[0m getitem \u001b[38;5;241m=\u001b[39m \u001b[38;5;28mself\u001b[39m\u001b[38;5;241m.\u001b[39m_data\u001b[38;5;241m.\u001b[39m\u001b[38;5;21m__getitem__\u001b[39m\n\u001b[0;32m-> 5386\u001b[0m \u001b[38;5;28;01mif\u001b[39;00m \u001b[43mis_integer\u001b[49m\u001b[43m(\u001b[49m\u001b[43mkey\u001b[49m\u001b[43m)\u001b[49m \u001b[38;5;129;01mor\u001b[39;00m is_float(key):\n\u001b[1;32m   5387\u001b[0m     \u001b[38;5;66;03m# GH#44051 exclude bool, which would return a 2d ndarray\u001b[39;00m\n\u001b[1;32m   5388\u001b[0m     key \u001b[38;5;241m=\u001b[39m com\u001b[38;5;241m.\u001b[39mcast_scalar_indexer(key)\n\u001b[1;32m   5389\u001b[0m     \u001b[38;5;28;01mreturn\u001b[39;00m getitem(key)\n",
      "\u001b[0;31mKeyboardInterrupt\u001b[0m: "
     ]
    }
   ],
   "source": [
    "matches_og(10,um_poet,um_corr,test_um)"
   ]
  },
  {
   "cell_type": "markdown",
   "metadata": {},
   "source": [
    "hello"
   ]
  },
  {
   "cell_type": "code",
   "execution_count": 73,
   "metadata": {},
   "outputs": [
    {
     "data": {
      "text/plain": [
       "k=1     6451\n",
       "k=2     9886\n",
       "k=3    10067\n",
       "k=4    10299\n",
       "dtype: object"
      ]
     },
     "metadata": {},
     "output_type": "display_data"
    }
   ],
   "source": [
    "match_finder(um_poet,train_um,[1,2,3,4],test_um)"
   ]
  },
  {
   "cell_type": "code",
   "execution_count": 84,
   "metadata": {},
   "outputs": [],
   "source": [
    "rated = get_user_rated_books(\"0004ae25e3cf5f5a44b6f1ccfdd3d343\",um_poet)"
   ]
  },
  {
   "cell_type": "code",
   "execution_count": 86,
   "metadata": {},
   "outputs": [],
   "source": [
    "recs_no_svd = recommend_books(\"0004ae25e3cf5f5a44b6f1ccfdd3d343\",10)"
   ]
  }
 ],
 "metadata": {
  "kernelspec": {
   "display_name": "Python 3",
   "language": "python",
   "name": "python3"
  },
  "language_info": {
   "codemirror_mode": {
    "name": "ipython",
    "version": 3
   },
   "file_extension": ".py",
   "mimetype": "text/x-python",
   "name": "python",
   "nbconvert_exporter": "python",
   "pygments_lexer": "ipython3",
   "version": "3.12.4"
  }
 },
 "nbformat": 4,
 "nbformat_minor": 2
}
